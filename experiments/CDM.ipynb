{
 "cells": [
  {
   "cell_type": "markdown",
   "metadata": {},
   "source": [
    "input : N_RUNS, TASKS, ALPHAS, ACT_FUNCTION, CLASS_METRICS, connectivity(+sub_id)/rsn file, input/output node\n",
    "\n",
    "output : dataset(run==0), \n",
    "\n",
    "         train/test reservoir state(run==0 & alpha==1) \n",
    "\n",
    "         decision function, predict/ground truth(run==0 & alpha==1) \n",
    "\n",
    "         특정 subj의 connectiviy를 사용한 readout model의 성능 csv file\n",
    "         \n",
    "              {activation, run, alpha, metric1점수, metric2점수, ...}"
   ]
  },
  {
   "cell_type": "code",
   "execution_count": null,
   "metadata": {},
   "outputs": [],
   "source": [
    "import warnings\n",
    "import os\n",
    "import numpy as np\n",
    "from conn2res.tasks import NeuroGymTask\n",
    "from conn2res.connectivity import Conn\n",
    "from conn2res.reservoir import EchoStateNetwork\n",
    "from conn2res.readout import Readout\n",
    "import matplotlib.pyplot as plt\n",
    "from conn2res import readout, plotting\n",
    "\n",
    "warnings.simplefilter(action='ignore', category=FutureWarning)\n",
    "warnings.simplefilter(action='ignore', category=RuntimeWarning)\n",
    "warnings.simplefilter(action='ignore', category=UserWarning)"
   ]
  },
  {
   "cell_type": "code",
   "execution_count": null,
   "metadata": {},
   "outputs": [],
   "source": [
    "# ~/_conn2res\n",
    "PROJ_DIR = os.path.dirname(os.path.dirname(os.path.abspath(__file__)))  \n",
    "# ~/_conn2res/experiments/figs \n",
    "OUTPUT_DIR = os.path.join(PROJ_DIR, \"experiments\", 'figs')\n",
    "if not os.path.isdir(OUTPUT_DIR):\n",
    "    os.makedirs(OUTPUT_DIR)\n",
    "# 각 task에서 각 activation func마다 실행하는 run 횟수(1 run = 1000 trials)\n",
    "N_RUNS = 50 \n",
    "TASKS = [\n",
    "    'ContextDecisionMaking',\n",
    "]\n",
    "# readout model 성능 평가 기준\n",
    "CLASS_METRICS = [\n",
    "    'balanced_accuracy_score',\n",
    "    'f1_score',\n",
    "]\n",
    "ALPHAS = np.linspace(0, 2, 41)[1:]\n",
    "ACT_FCNS = [\n",
    "    'tanh',\n",
    "    'sigmoid',\n",
    "    'relu',\n",
    "]\n",
    "# connectivity matrix heatmap 시각화 여부\n",
    "VIZ_CONN = False"
   ]
  },
  {
   "cell_type": "code",
   "execution_count": null,
   "metadata": {},
   "outputs": [],
   "source": [
    "# individual일 시, id:0~69\n",
    "conn = Conn(subj_id=0, filename='consensus_human_250.npy')  \n",
    "# weight를 [0,1]로 scale후 spectral radius로 normalization\n",
    "conn.scale_and_normalize()  \n",
    "if conn.w.ndim == 3:\n",
    "    print(f'\\n Connectivity Matrix : Individual, ROI수 = {conn.n_nodes}')\n",
    "else:\n",
    "    print(f'\\n Connectivity Matrix : Consensus, ROI수 = {conn.n_nodes}')\n",
    "    \n",
    "# conenctivity matrix heatmap\n",
    "if VIZ_CONN == True:\n",
    "    w_log=np.log(conn.w)\n",
    "    w_log=np.nan_to_num(w_log, neginf=-12.5)\n",
    "\n",
    "    print(np.min(w_log), np.max(w_log))\n",
    "\n",
    "    fig,ax1=plt.subplots()\n",
    "    w_show=ax1.imshow(w_log, cmap='turbo', interpolation= 'nearest')\n",
    "    cbar=ax1.figure.colorbar(w_show, ax=ax1)\n",
    "    #sns.jointplot(data=w_log, kind='scatter')\n",
    "    plt.show()"
   ]
  }
 ],
 "metadata": {
  "language_info": {
   "name": "python"
  },
  "orig_nbformat": 4
 },
 "nbformat": 4,
 "nbformat_minor": 2
}
